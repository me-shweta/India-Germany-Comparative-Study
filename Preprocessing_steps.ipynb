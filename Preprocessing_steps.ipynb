{
  "nbformat": 4,
  "nbformat_minor": 0,
  "metadata": {
    "colab": {
      "provenance": [],
      "authorship_tag": "ABX9TyPQNgO9c7rHWFx7dVFCQ2JH",
      "include_colab_link": true
    },
    "kernelspec": {
      "name": "python3",
      "display_name": "Python 3"
    },
    "language_info": {
      "name": "python"
    }
  },
  "cells": [
    {
      "cell_type": "markdown",
      "metadata": {
        "id": "view-in-github",
        "colab_type": "text"
      },
      "source": [
        "<a href=\"https://colab.research.google.com/github/me-shweta/India-Germany-Comparative-Study/blob/main/Preprocessing_steps.ipynb\" target=\"_parent\"><img src=\"https://colab.research.google.com/assets/colab-badge.svg\" alt=\"Open In Colab\"/></a>"
      ]
    },
    {
      "cell_type": "code",
      "source": [
        "from google.colab import drive\n",
        "drive.mount('/content/drive')"
      ],
      "metadata": {
        "colab": {
          "base_uri": "https://localhost:8080/"
        },
        "id": "82pL2OJzL66a",
        "outputId": "3c1eea7c-9233-4432-fa51-b671e62a2b4d"
      },
      "execution_count": 3,
      "outputs": [
        {
          "output_type": "stream",
          "name": "stdout",
          "text": [
            "Mounted at /content/drive\n"
          ]
        }
      ]
    },
    {
      "cell_type": "code",
      "execution_count": 1,
      "metadata": {
        "id": "bpKOTfxdLyI3"
      },
      "outputs": [],
      "source": [
        "import pandas as pd #used for data manipulation and analysis."
      ]
    },
    {
      "cell_type": "code",
      "source": [
        "df = pd.read_excel('path_name') #read data from an Excel file into a DataFrame"
      ],
      "metadata": {
        "id": "AZXF5yZ6MZ9G"
      },
      "execution_count": null,
      "outputs": []
    },
    {
      "cell_type": "code",
      "source": [
        "for col in df.columns:\n",
        "    print(col)"
      ],
      "metadata": {
        "id": "IcZMSQhyMm_7"
      },
      "execution_count": null,
      "outputs": []
    },
    {
      "cell_type": "code",
      "source": [
        "# Filter data for India and Germany\n",
        "countries_of_interest = ['India', 'Germany']\n",
        "filtered_df = df[df['Country'].isin(countries_of_interest)]\n",
        "\n",
        "print(df.info())\n",
        "print(df.head())  # Display the first few rows of the DataFrame"
      ],
      "metadata": {
        "id": "qslHyw3NMyfC"
      },
      "execution_count": null,
      "outputs": []
    },
    {
      "cell_type": "code",
      "source": [
        "df = df.dropna(thresh=30)"
      ],
      "metadata": {
        "id": "k38RalGaM6MA"
      },
      "execution_count": null,
      "outputs": []
    },
    {
      "cell_type": "code",
      "source": [
        "df.to_csv('filename.csv')"
      ],
      "metadata": {
        "id": "crS4YwZ6M-KF"
      },
      "execution_count": null,
      "outputs": []
    },
    {
      "cell_type": "code",
      "source": [
        "columns_with_mixed_types = [4, 12, 13, 14, 15, 16, 17, 18, 19, 20, 21, 22, 24, 25, 26, 27, 28,\n",
        "                             29, 30, 31, 32, 33, 34, 35, 36, 37, 38, 39, 40, 41, 42, 43, 44, 45,\n",
        "                             46, 47, 48, 49, 50, 51, 52, 53, 54, 55, 56, 57, 58, 59, 60, 61, 62,\n",
        "                             63, 64, 65]\n",
        "\n",
        "# Read the CSV file with specified dtype for columns\n",
        "data = pd.read_csv('filename.csv', header=1, dtype={col: str for col in columns_with_mixed_types}, index_col='Index')"
      ],
      "metadata": {
        "id": "oQu9MfJPNOnZ"
      },
      "execution_count": null,
      "outputs": []
    },
    {
      "cell_type": "code",
      "source": [
        "data.drop('15', axis =1, inplace = True)"
      ],
      "metadata": {
        "id": "Il3ccUKaNTHL"
      },
      "execution_count": null,
      "outputs": []
    },
    {
      "cell_type": "code",
      "source": [
        "# Filter the DataFrame to include rows for India or Germany\n",
        "India_germany = data[(data['Region, subregion, country or area *'] == 'India') | (data['Region, subregion, country or area *'] == 'Germany')]"
      ],
      "metadata": {
        "id": "WVph8n2qNVZ8"
      },
      "execution_count": null,
      "outputs": []
    },
    {
      "cell_type": "code",
      "source": [
        "India_germany.to_csv('India_Germany.csv')"
      ],
      "metadata": {
        "id": "Vu8b-FOBNVhM"
      },
      "execution_count": null,
      "outputs": []
    },
    {
      "cell_type": "code",
      "source": [
        "new = pd.read_csv('India_Germany.csv')"
      ],
      "metadata": {
        "id": "gbV6Wq73NaBm"
      },
      "execution_count": null,
      "outputs": []
    },
    {
      "cell_type": "code",
      "source": [
        "new.drop('Notes', axis = 1, inplace = True)\n",
        "new.columns"
      ],
      "metadata": {
        "id": "dPw3FooBNaCu"
      },
      "execution_count": null,
      "outputs": []
    }
  ]
}